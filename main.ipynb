{
 "metadata": {
  "language_info": {
   "codemirror_mode": {
    "name": "ipython",
    "version": 3
   },
   "file_extension": ".py",
   "mimetype": "text/x-python",
   "name": "python",
   "nbconvert_exporter": "python",
   "pygments_lexer": "ipython3",
   "version": "2.7.16-final"
  },
  "orig_nbformat": 2,
  "kernelspec": {
   "name": "Python 2.7.16 64-bit ('base': conda)",
   "display_name": "Python 2.7.16 64-bit ('base': conda)",
   "metadata": {
    "interpreter": {
     "hash": "2183d5f549862bbc1b07cc3e8962da412d4d9377797abbe25d5c2e6ac4481881"
    }
   }
  }
 },
 "nbformat": 4,
 "nbformat_minor": 2,
 "cells": [
  {
   "source": [
    "import pandas as pd"
   ],
   "cell_type": "code",
   "metadata": {},
   "execution_count": 2,
   "outputs": []
  },
  {
   "cell_type": "code",
   "execution_count": 1,
   "metadata": {},
   "outputs": [],
   "source": [
    "file = \"Datasets/amostra.csv\""
   ]
  },
  {
   "cell_type": "code",
   "execution_count": 3,
   "metadata": {},
   "outputs": [],
   "source": [
    "df = pd.read_csv(file)"
   ]
  },
  {
   "cell_type": "code",
   "execution_count": 4,
   "metadata": {},
   "outputs": [
    {
     "output_type": "execute_result",
     "data": {
      "text/html": "<div>\n<style scoped>\n    .dataframe tbody tr th:only-of-type {\n        vertical-align: middle;\n    }\n\n    .dataframe tbody tr th {\n        vertical-align: top;\n    }\n\n    .dataframe thead th {\n        text-align: right;\n    }\n</style>\n<table border=\"1\" class=\"dataframe\">\n  <thead>\n    <tr style=\"text-align: right;\">\n      <th></th>\n      <th>Unnamed: 0</th>\n      <th>file</th>\n      <th>message</th>\n    </tr>\n  </thead>\n  <tbody>\n    <tr>\n      <th>0</th>\n      <td>9505</td>\n      <td>bailey-s/deleted_items/122.</td>\n      <td>Message-ID: &lt;16244314.1075861105174.JavaMail.e...</td>\n    </tr>\n    <tr>\n      <th>1</th>\n      <td>48675</td>\n      <td>cash-m/deleted_items/144.</td>\n      <td>Message-ID: &lt;29406270.1075853118603.JavaMail.e...</td>\n    </tr>\n    <tr>\n      <th>2</th>\n      <td>82866</td>\n      <td>dasovich-j/sent/4688.</td>\n      <td>Message-ID: &lt;3952686.1075843894122.JavaMail.ev...</td>\n    </tr>\n    <tr>\n      <th>3</th>\n      <td>218321</td>\n      <td>kaminski-v/discussion_threads/5669.</td>\n      <td>Message-ID: &lt;13908151.1075856828137.JavaMail.e...</td>\n    </tr>\n    <tr>\n      <th>4</th>\n      <td>27975</td>\n      <td>beck-s/discussion_threads/829.</td>\n      <td>Message-ID: &lt;28372199.1075855827349.JavaMail.e...</td>\n    </tr>\n  </tbody>\n</table>\n</div>",
      "text/plain": [
       "   Unnamed: 0                                 file  \\\n",
       "0        9505          bailey-s/deleted_items/122.   \n",
       "1       48675            cash-m/deleted_items/144.   \n",
       "2       82866                dasovich-j/sent/4688.   \n",
       "3      218321  kaminski-v/discussion_threads/5669.   \n",
       "4       27975       beck-s/discussion_threads/829.   \n",
       "\n",
       "                                             message  \n",
       "0  Message-ID: <16244314.1075861105174.JavaMail.e...  \n",
       "1  Message-ID: <29406270.1075853118603.JavaMail.e...  \n",
       "2  Message-ID: <3952686.1075843894122.JavaMail.ev...  \n",
       "3  Message-ID: <13908151.1075856828137.JavaMail.e...  \n",
       "4  Message-ID: <28372199.1075855827349.JavaMail.e...  "
      ]
     },
     "metadata": {},
     "execution_count": 4
    }
   ],
   "source": [
    "df.head()"
   ]
  },
  {
   "cell_type": "code",
   "execution_count": null,
   "metadata": {},
   "outputs": [],
   "source": []
  }
 ]
}