{
 "metadata": {
  "language_info": {
   "codemirror_mode": {
    "name": "ipython",
    "version": 3
   },
   "file_extension": ".py",
   "mimetype": "text/x-python",
   "name": "python",
   "nbconvert_exporter": "python",
   "pygments_lexer": "ipython3",
   "version": "3.8.5-final"
  },
  "orig_nbformat": 2,
  "kernelspec": {
   "name": "Python 3.8.5 32-bit",
   "display_name": "Python 3.8.5 32-bit",
   "metadata": {
    "interpreter": {
     "hash": "e73d3315deaaccb0c6e0e925fa9f28d610a9f17e90a5264854df9f46b4418957"
    }
   }
  }
 },
 "nbformat": 4,
 "nbformat_minor": 2,
 "cells": [
  {
   "source": [
    "## NÃO EXECUTAR AS CELULAS ABAIXO"
   ],
   "cell_type": "markdown",
   "metadata": {}
  },
  {
   "cell_type": "code",
   "execution_count": 39,
   "metadata": {},
   "outputs": [],
   "source": [
    "import pandas as pd\n",
    "import re"
   ]
  },
  {
   "cell_type": "code",
   "execution_count": 40,
   "metadata": {},
   "outputs": [],
   "source": [
    "df = pd.read_csv(\"Datasets/amostra.csv\")"
   ]
  },
  {
   "cell_type": "code",
   "execution_count": 41,
   "metadata": {},
   "outputs": [
    {
     "output_type": "execute_result",
     "data": {
      "text/plain": [
       "   Unnamed: 0                       file  \\\n",
       "0      284300  linder-e/notes_inbox/612.   \n",
       "1      350831  nemec-g/notes_inbox/1770.   \n",
       "2       23737  beck-s/all_documents/302.   \n",
       "3      428115    shackleton-s/sent/2362.   \n",
       "4      299830    mann-k/_sent_mail/1405.   \n",
       "\n",
       "                                             message  \n",
       "0  Message-ID: <14672070.1075841058817.JavaMail.e...  \n",
       "1  Message-ID: <11746603.1075842820695.JavaMail.e...  \n",
       "2  Message-ID: <24859422.1075849818905.JavaMail.e...  \n",
       "3  Message-ID: <19690010.1075844575649.JavaMail.e...  \n",
       "4  Message-ID: <15639165.1075846062681.JavaMail.e...  "
      ],
      "text/html": "<div>\n<style scoped>\n    .dataframe tbody tr th:only-of-type {\n        vertical-align: middle;\n    }\n\n    .dataframe tbody tr th {\n        vertical-align: top;\n    }\n\n    .dataframe thead th {\n        text-align: right;\n    }\n</style>\n<table border=\"1\" class=\"dataframe\">\n  <thead>\n    <tr style=\"text-align: right;\">\n      <th></th>\n      <th>Unnamed: 0</th>\n      <th>file</th>\n      <th>message</th>\n    </tr>\n  </thead>\n  <tbody>\n    <tr>\n      <th>0</th>\n      <td>284300</td>\n      <td>linder-e/notes_inbox/612.</td>\n      <td>Message-ID: &lt;14672070.1075841058817.JavaMail.e...</td>\n    </tr>\n    <tr>\n      <th>1</th>\n      <td>350831</td>\n      <td>nemec-g/notes_inbox/1770.</td>\n      <td>Message-ID: &lt;11746603.1075842820695.JavaMail.e...</td>\n    </tr>\n    <tr>\n      <th>2</th>\n      <td>23737</td>\n      <td>beck-s/all_documents/302.</td>\n      <td>Message-ID: &lt;24859422.1075849818905.JavaMail.e...</td>\n    </tr>\n    <tr>\n      <th>3</th>\n      <td>428115</td>\n      <td>shackleton-s/sent/2362.</td>\n      <td>Message-ID: &lt;19690010.1075844575649.JavaMail.e...</td>\n    </tr>\n    <tr>\n      <th>4</th>\n      <td>299830</td>\n      <td>mann-k/_sent_mail/1405.</td>\n      <td>Message-ID: &lt;15639165.1075846062681.JavaMail.e...</td>\n    </tr>\n  </tbody>\n</table>\n</div>"
     },
     "metadata": {},
     "execution_count": 41
    }
   ],
   "source": [
    "df.head()"
   ]
  },
  {
   "cell_type": "code",
   "execution_count": 42,
   "metadata": {},
   "outputs": [
    {
     "output_type": "execute_result",
     "data": {
      "text/plain": [
       "'Message-ID: <14672070.1075841058817.JavaMail.evans@thyme>\\r\\nDate: Mon, 9 Apr 2001 21:41:00 -0700 (PDT)\\r\\nFrom: pete.davis@enron.com\\r\\nTo: pete.davis@enron.com\\r\\nSubject: Start Date: 4/10/01; HourAhead hour: 5;  <CODESITE>\\r\\nCc: bert.meyers@enron.com, bill.williams.iii@enron.com, craig.dean@enron.com, \\r\\n\\tdporter3@enron.com, eric.linder@enron.com, geir.solberg@enron.com, \\r\\n\\tjbryson@enron.com, leaf.harasin@enron.com, \\r\\n\\tmonika.causholli@enron.com, mark.guzman@enron.com, \\r\\n\\tpete.davis@enron.com, ryan.slinger@enron.com\\r\\nMime-Version: 1.0\\r\\nContent-Type: text/plain; charset=us-ascii\\r\\nContent-Transfer-Encoding: 7bit\\r\\nBcc: bert.meyers@enron.com, bill.williams.iii@enron.com, craig.dean@enron.com, \\r\\n\\tdporter3@enron.com, eric.linder@enron.com, geir.solberg@enron.com, \\r\\n\\tjbryson@enron.com, leaf.harasin@enron.com, \\r\\n\\tmonika.causholli@enron.com, mark.guzman@enron.com, \\r\\n\\tpete.davis@enron.com, ryan.slinger@enron.com\\r\\nX-From: Schedule Crawler<pete.davis@enron.com>\\r\\nX-To: pete.davis@enron.com\\r\\nX-cc: bert.meyers@enron.com, bill.williams.III@enron.com, Craig.Dean@enron.com, dporter3@enron.com, Eric.Linder@enron.com, Geir.Solberg@enron.com, jbryson@enron.com, leaf.harasin@enron.com, monika.causholli@enron.com, mark.guzman@enron.com, pete.davis@enron.com, ryan.slinger@enron.com\\r\\nX-bcc: \\r\\nX-Folder: \\\\eric linder 6-28-02\\\\Notes Folders\\\\Notes inbox\\r\\nX-Origin: LINDER-E\\r\\nX-FileName: eric linder 6-28-02.nsf\\r\\n\\r\\nStart Date: 4/10/01; HourAhead hour: 5;  No ancillary schedules awarded.  No \\r\\nvariances detected.\\r\\n\\r\\n    LOG MESSAGES:\\r\\n\\r\\nPARSING FILE -->> O:\\\\Portland\\\\WestDesk\\\\California Scheduling\\\\ISO Final \\r\\nSchedules\\\\2001041005.txt'"
      ]
     },
     "metadata": {},
     "execution_count": 42
    }
   ],
   "source": [
    "df['message'][0]"
   ]
  },
  {
   "cell_type": "code",
   "execution_count": 43,
   "metadata": {},
   "outputs": [],
   "source": [
    "def clearString(text):\n",
    "    return re.sub(r\"\\r|\\n|\\t\", \" \", text)\n",
    "def clearSpaces(text):\n",
    "    return re.sub(r\"\\s{2,}\", \" \", text)"
   ]
  },
  {
   "cell_type": "code",
   "execution_count": 44,
   "metadata": {},
   "outputs": [],
   "source": [
    "df['message'] = df['message'].apply(clearString)\n",
    "df['message'] = df['message'].apply(clearSpaces)\n"
   ]
  },
  {
   "cell_type": "code",
   "execution_count": 45,
   "metadata": {},
   "outputs": [
    {
     "output_type": "execute_result",
     "data": {
      "text/plain": [
       "'Message-ID: <14672070.1075841058817.JavaMail.evans@thyme> Date: Mon, 9 Apr 2001 21:41:00 -0700 (PDT) From: pete.davis@enron.com To: pete.davis@enron.com Subject: Start Date: 4/10/01; HourAhead hour: 5; <CODESITE> Cc: bert.meyers@enron.com, bill.williams.iii@enron.com, craig.dean@enron.com, dporter3@enron.com, eric.linder@enron.com, geir.solberg@enron.com, jbryson@enron.com, leaf.harasin@enron.com, monika.causholli@enron.com, mark.guzman@enron.com, pete.davis@enron.com, ryan.slinger@enron.com Mime-Version: 1.0 Content-Type: text/plain; charset=us-ascii Content-Transfer-Encoding: 7bit Bcc: bert.meyers@enron.com, bill.williams.iii@enron.com, craig.dean@enron.com, dporter3@enron.com, eric.linder@enron.com, geir.solberg@enron.com, jbryson@enron.com, leaf.harasin@enron.com, monika.causholli@enron.com, mark.guzman@enron.com, pete.davis@enron.com, ryan.slinger@enron.com X-From: Schedule Crawler<pete.davis@enron.com> X-To: pete.davis@enron.com X-cc: bert.meyers@enron.com, bill.williams.III@enron.com, Craig.Dean@enron.com, dporter3@enron.com, Eric.Linder@enron.com, Geir.Solberg@enron.com, jbryson@enron.com, leaf.harasin@enron.com, monika.causholli@enron.com, mark.guzman@enron.com, pete.davis@enron.com, ryan.slinger@enron.com X-bcc: X-Folder: \\\\eric linder 6-28-02\\\\Notes Folders\\\\Notes inbox X-Origin: LINDER-E X-FileName: eric linder 6-28-02.nsf Start Date: 4/10/01; HourAhead hour: 5; No ancillary schedules awarded. No variances detected. LOG MESSAGES: PARSING FILE -->> O:\\\\Portland\\\\WestDesk\\\\California Scheduling\\\\ISO Final Schedules\\\\2001041005.txt'"
      ]
     },
     "metadata": {},
     "execution_count": 45
    }
   ],
   "source": [
    "df['message'][0]"
   ]
  },
  {
   "cell_type": "code",
   "execution_count": 46,
   "metadata": {},
   "outputs": [],
   "source": [
    "def findFrom(text):\n",
    "    match = re.search(r'(?<=From: ).*com(?= To:)', text)\n",
    "    if match:\n",
    "        return match.group(0)\n",
    "    else:\n",
    "        return \"empty-email\"\n",
    "\n",
    "def findTo(text):\n",
    "    match = re.search(r'(?<=To: ).*com(?= Subject:)', text)\n",
    "    if match:\n",
    "        return match.group(0)\n",
    "    else:\n",
    "        return \"empty-email\""
   ]
  },
  {
   "cell_type": "code",
   "execution_count": 47,
   "metadata": {},
   "outputs": [],
   "source": [
    "df['From'] = df['message'].apply(findFrom)\n",
    "df['To'] = df['message'].apply(findFrom)"
   ]
  },
  {
   "cell_type": "code",
   "execution_count": 48,
   "metadata": {},
   "outputs": [
    {
     "output_type": "execute_result",
     "data": {
      "text/plain": [
       "'pete.davis@enron.com'"
      ]
     },
     "metadata": {},
     "execution_count": 48
    }
   ],
   "source": [
    "df['From'][0]"
   ]
  },
  {
   "cell_type": "code",
   "execution_count": 49,
   "metadata": {},
   "outputs": [
    {
     "output_type": "execute_result",
     "data": {
      "text/plain": [
       "'pete.davis@enron.com'"
      ]
     },
     "metadata": {},
     "execution_count": 49
    }
   ],
   "source": [
    "df['To'][0]"
   ]
  },
  {
   "cell_type": "code",
   "execution_count": 52,
   "metadata": {},
   "outputs": [
    {
     "output_type": "execute_result",
     "data": {
      "text/plain": [
       "0                  pete.davis@enron.com\n",
       "1             office.chairman@enron.com\n",
       "2    mailer-daemon@postmaster.enron.com\n",
       "3             sara.shackleton@enron.com\n",
       "4                    kay.mann@enron.com\n",
       "Name: To, dtype: object"
      ]
     },
     "metadata": {},
     "execution_count": 52
    }
   ],
   "source": [
    "df['To'].head()"
   ]
  },
  {
   "cell_type": "code",
   "execution_count": null,
   "metadata": {},
   "outputs": [],
   "source": []
  }
 ]
}