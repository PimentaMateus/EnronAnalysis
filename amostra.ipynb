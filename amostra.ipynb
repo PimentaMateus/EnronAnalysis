{
 "metadata": {
  "language_info": {
   "codemirror_mode": {
    "name": "ipython",
    "version": 3
   },
   "file_extension": ".py",
   "mimetype": "text/x-python",
   "name": "python",
   "nbconvert_exporter": "python",
   "pygments_lexer": "ipython3",
   "version": "3.8.5-final"
  },
  "orig_nbformat": 2,
  "kernelspec": {
   "name": "Python 3.8.5 32-bit",
   "display_name": "Python 3.8.5 32-bit",
   "metadata": {
    "interpreter": {
     "hash": "e73d3315deaaccb0c6e0e925fa9f28d610a9f17e90a5264854df9f46b4418957"
    }
   }
  }
 },
 "nbformat": 4,
 "nbformat_minor": 2,
 "cells": [
  {
   "source": [
    "## NÃO EXECUTAR AS CELULAS ABAIXO"
   ],
   "cell_type": "markdown",
   "metadata": {}
  },
  {
   "cell_type": "code",
   "execution_count": 110,
   "metadata": {},
   "outputs": [],
   "source": [
    "import pandas as pd\n",
    "import re"
   ]
  },
  {
   "cell_type": "code",
   "execution_count": 111,
   "metadata": {},
   "outputs": [],
   "source": [
    "df = pd.read_csv(\"Datasets/amostra.csv\")"
   ]
  },
  {
   "cell_type": "code",
   "execution_count": 112,
   "metadata": {},
   "outputs": [
    {
     "output_type": "execute_result",
     "data": {
      "text/plain": [
       "   Unnamed: 0                       file  \\\n",
       "0      284300  linder-e/notes_inbox/612.   \n",
       "1      350831  nemec-g/notes_inbox/1770.   \n",
       "2       23737  beck-s/all_documents/302.   \n",
       "3      428115    shackleton-s/sent/2362.   \n",
       "4      299830    mann-k/_sent_mail/1405.   \n",
       "\n",
       "                                             message  \n",
       "0  Message-ID: <14672070.1075841058817.JavaMail.e...  \n",
       "1  Message-ID: <11746603.1075842820695.JavaMail.e...  \n",
       "2  Message-ID: <24859422.1075849818905.JavaMail.e...  \n",
       "3  Message-ID: <19690010.1075844575649.JavaMail.e...  \n",
       "4  Message-ID: <15639165.1075846062681.JavaMail.e...  "
      ],
      "text/html": "<div>\n<style scoped>\n    .dataframe tbody tr th:only-of-type {\n        vertical-align: middle;\n    }\n\n    .dataframe tbody tr th {\n        vertical-align: top;\n    }\n\n    .dataframe thead th {\n        text-align: right;\n    }\n</style>\n<table border=\"1\" class=\"dataframe\">\n  <thead>\n    <tr style=\"text-align: right;\">\n      <th></th>\n      <th>Unnamed: 0</th>\n      <th>file</th>\n      <th>message</th>\n    </tr>\n  </thead>\n  <tbody>\n    <tr>\n      <th>0</th>\n      <td>284300</td>\n      <td>linder-e/notes_inbox/612.</td>\n      <td>Message-ID: &lt;14672070.1075841058817.JavaMail.e...</td>\n    </tr>\n    <tr>\n      <th>1</th>\n      <td>350831</td>\n      <td>nemec-g/notes_inbox/1770.</td>\n      <td>Message-ID: &lt;11746603.1075842820695.JavaMail.e...</td>\n    </tr>\n    <tr>\n      <th>2</th>\n      <td>23737</td>\n      <td>beck-s/all_documents/302.</td>\n      <td>Message-ID: &lt;24859422.1075849818905.JavaMail.e...</td>\n    </tr>\n    <tr>\n      <th>3</th>\n      <td>428115</td>\n      <td>shackleton-s/sent/2362.</td>\n      <td>Message-ID: &lt;19690010.1075844575649.JavaMail.e...</td>\n    </tr>\n    <tr>\n      <th>4</th>\n      <td>299830</td>\n      <td>mann-k/_sent_mail/1405.</td>\n      <td>Message-ID: &lt;15639165.1075846062681.JavaMail.e...</td>\n    </tr>\n  </tbody>\n</table>\n</div>"
     },
     "metadata": {},
     "execution_count": 112
    }
   ],
   "source": [
    "df.head()"
   ]
  },
  {
   "cell_type": "code",
   "execution_count": 113,
   "metadata": {},
   "outputs": [
    {
     "output_type": "execute_result",
     "data": {
      "text/plain": [
       "'Message-ID: <14672070.1075841058817.JavaMail.evans@thyme>\\r\\nDate: Mon, 9 Apr 2001 21:41:00 -0700 (PDT)\\r\\nFrom: pete.davis@enron.com\\r\\nTo: pete.davis@enron.com\\r\\nSubject: Start Date: 4/10/01; HourAhead hour: 5;  <CODESITE>\\r\\nCc: bert.meyers@enron.com, bill.williams.iii@enron.com, craig.dean@enron.com, \\r\\n\\tdporter3@enron.com, eric.linder@enron.com, geir.solberg@enron.com, \\r\\n\\tjbryson@enron.com, leaf.harasin@enron.com, \\r\\n\\tmonika.causholli@enron.com, mark.guzman@enron.com, \\r\\n\\tpete.davis@enron.com, ryan.slinger@enron.com\\r\\nMime-Version: 1.0\\r\\nContent-Type: text/plain; charset=us-ascii\\r\\nContent-Transfer-Encoding: 7bit\\r\\nBcc: bert.meyers@enron.com, bill.williams.iii@enron.com, craig.dean@enron.com, \\r\\n\\tdporter3@enron.com, eric.linder@enron.com, geir.solberg@enron.com, \\r\\n\\tjbryson@enron.com, leaf.harasin@enron.com, \\r\\n\\tmonika.causholli@enron.com, mark.guzman@enron.com, \\r\\n\\tpete.davis@enron.com, ryan.slinger@enron.com\\r\\nX-From: Schedule Crawler<pete.davis@enron.com>\\r\\nX-To: pete.davis@enron.com\\r\\nX-cc: bert.meyers@enron.com, bill.williams.III@enron.com, Craig.Dean@enron.com, dporter3@enron.com, Eric.Linder@enron.com, Geir.Solberg@enron.com, jbryson@enron.com, leaf.harasin@enron.com, monika.causholli@enron.com, mark.guzman@enron.com, pete.davis@enron.com, ryan.slinger@enron.com\\r\\nX-bcc: \\r\\nX-Folder: \\\\eric linder 6-28-02\\\\Notes Folders\\\\Notes inbox\\r\\nX-Origin: LINDER-E\\r\\nX-FileName: eric linder 6-28-02.nsf\\r\\n\\r\\nStart Date: 4/10/01; HourAhead hour: 5;  No ancillary schedules awarded.  No \\r\\nvariances detected.\\r\\n\\r\\n    LOG MESSAGES:\\r\\n\\r\\nPARSING FILE -->> O:\\\\Portland\\\\WestDesk\\\\California Scheduling\\\\ISO Final \\r\\nSchedules\\\\2001041005.txt'"
      ]
     },
     "metadata": {},
     "execution_count": 113
    }
   ],
   "source": [
    "df['message'][0]"
   ]
  },
  {
   "cell_type": "code",
   "execution_count": 114,
   "metadata": {},
   "outputs": [],
   "source": [
    "def clearString(text):\n",
    "    return re.sub(r\"\\r|\\n|\\t\", \" \", text)\n",
    "def clearSpaces(text):\n",
    "    return re.sub(r\"\\s{2,}\", \" \", text)"
   ]
  },
  {
   "cell_type": "code",
   "execution_count": 115,
   "metadata": {},
   "outputs": [],
   "source": [
    "df['message'] = df['message'].apply(clearString)\n",
    "df['message'] = df['message'].apply(clearSpaces)\n"
   ]
  },
  {
   "cell_type": "code",
   "execution_count": 116,
   "metadata": {},
   "outputs": [
    {
     "output_type": "execute_result",
     "data": {
      "text/plain": [
       "'Message-ID: <32060005.1075860865137.JavaMail.evans@thyme> Date: Thu, 14 Feb 2002 04:07:00 -0800 (PST) From: hduncan@caem.org To: kevin.hyatt@enron.com Subject: NEW Document Available From CAEM Mime-Version: 1.0 Content-Type: text/plain; charset=us-ascii Content-Transfer-Encoding: 7bit X-From: Hope Duncan <hduncan@caem.org> X-To: Hyatt, Kevin </O=ENRON/OU=NA/CN=RECIPIENTS/CN=KHYATT> X-cc: X-bcc: X-Folder: \\\\Kevin_Hyatt_Mar2002\\\\Hyatt, Kevin\\\\Deleted Items X-Origin: Hyatt-K X-FileName: khyatt (Non-Privileged).pst ***** NEW Documents Available From CAEM Free of Charge ***** The Center for the Advancement of Energy Markets (CAEM) is pleased to announce the availability of two ground-breaking documents -- \"The Role of the Federal Government in Distributed Energy\" and \"The Role of the Default Provider in Restructured Energy Markets\" -- that are available free of charge. To access the documents, visit us at our web site -- www.caem.org After over 6 months of intensive work by CAEM\\'s Distributed Energy Task Force, CAEM is releasing a comprehensive report on the \"THE ROLE OF THE FEDERAL GOVERNMENT IN DISTRIBUTED ENERGY\" prepared by Nat Treadway, a CAEM Senior Research Fellow, and Ed Reid, CAEM\\'s Senior Technology Fellow. The report describes the major Federal government activities that encourage or hamper the commercialization of distributed energy (DE) and recommends changes that could allow DE to play a more significant role as a choice among competing energy services. The overarching conclusion of the report is that unless the Federal government takes affirmative steps to promote DE, the existing policies, regulations, and business practices will continue to hamper its development. The report makes a number of recommendations that will be important to policymakers at both the federal and state levels of government. This 70-page report is a must read for stakeholders interested in distributed energy. A white paper on \"THE ROLE OF THE DEFAULT PROVIDER IN RESTRUCTURING ENERGY MARKETS\" was prepared by Ron Sutherland, a CAEM Scholar, as part of CAEM\\'s DISCO of the Future Forum. The paper offers an insightful analysis and critique of the current models utilized by states to offer default service. The conclusions are summarized at the end of the paper, but the main result is noted here. Each state implicitly adopts a model of competition in its electricity and gas markets. This model then influences (if not determines) the choice of default provider. The commonly accepted model of competition permits the local utility to remain a competitor in the merchant function, where the utility is likely to be the default provider. In the restructuring efforts of those few states where the utility exits the merchant function, an energy supply company is likely to be the default provider. Various risks, inefficiencies or non-competitive elements do not result from the choice of default provider, but from other elements in the transition process. Price caps are the major factor contributing to risks and inefficiencies where the utility or an independent energy provider is the default provider. That is, it is not the default service provider framework, per se, that is responsible for the risks. The purpose of this study is descriptive not prescriptive, however a tentative suggestion is offered. Few customers will require default service if energy service providers have incentives to offer service at pricing and other terms that cover costs. If the need for default service occurs, customers will most likely obtain service if the default provider can offer service at pricing and other terms that cover costs. '"
      ]
     },
     "metadata": {},
     "execution_count": 116
    }
   ],
   "source": [
    "df['message'][61]"
   ]
  },
  {
   "cell_type": "code",
   "execution_count": 117,
   "metadata": {},
   "outputs": [],
   "source": [
    "def findFrom(text):\n",
    "    match = re.search(r'(?<=From: )[0-9a-zA-Z_.-]+@[0-9a-zA-Z_.-]+', text)\n",
    "    if match:\n",
    "        return match.group(0)\n",
    "    else:\n",
    "        return \"empty-email\"\n",
    "\n",
    "def findTo(text):\n",
    "    match = re.search(r'(?<=To: )[0-9a-zA-Z_.-]+@[0-9a-zA-Z_.-]+', text)\n",
    "    if match:\n",
    "        return match.group(0)\n",
    "    else:\n",
    "        return \"empty-email\""
   ]
  },
  {
   "cell_type": "code",
   "execution_count": 118,
   "metadata": {},
   "outputs": [],
   "source": [
    "df['From'] = df['message'].apply(findFrom)\n",
    "df['To'] = df['message'].apply(findFrom)"
   ]
  },
  {
   "cell_type": "code",
   "execution_count": 119,
   "metadata": {},
   "outputs": [],
   "source": [
    "df['aresta'] = list(zip(df.From, df.To))"
   ]
  },
  {
   "cell_type": "code",
   "execution_count": 120,
   "metadata": {},
   "outputs": [],
   "source": [
    "arestas = df['aresta'].tolist()"
   ]
  }
 ]
}