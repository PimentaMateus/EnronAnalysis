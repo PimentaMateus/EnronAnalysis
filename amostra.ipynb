{
 "metadata": {
  "language_info": {
   "codemirror_mode": {
    "name": "ipython",
    "version": 3
   },
   "file_extension": ".py",
   "mimetype": "text/x-python",
   "name": "python",
   "nbconvert_exporter": "python",
   "pygments_lexer": "ipython3",
   "version": "3.8.5-final"
  },
  "orig_nbformat": 2,
  "kernelspec": {
   "name": "Python 3.8.5 32-bit",
   "display_name": "Python 3.8.5 32-bit",
   "metadata": {
    "interpreter": {
     "hash": "e73d3315deaaccb0c6e0e925fa9f28d610a9f17e90a5264854df9f46b4418957"
    }
   }
  }
 },
 "nbformat": 4,
 "nbformat_minor": 2,
 "cells": [
  {
   "source": [
    "## NÃO EXECUTAR AS CELULAS ABAIXO"
   ],
   "cell_type": "markdown",
   "metadata": {}
  },
  {
   "cell_type": "code",
   "execution_count": 6,
   "metadata": {},
   "outputs": [],
   "source": [
    "import pandas as pd\n",
    "import re"
   ]
  },
  {
   "cell_type": "code",
   "execution_count": 2,
   "metadata": {},
   "outputs": [],
   "source": [
    "df = pd.read_csv(\"Datasets/amostra.csv\")"
   ]
  },
  {
   "cell_type": "code",
   "execution_count": 3,
   "metadata": {},
   "outputs": [
    {
     "output_type": "execute_result",
     "data": {
      "text/plain": [
       "   Unnamed: 0                       file  \\\n",
       "0      284300  linder-e/notes_inbox/612.   \n",
       "1      350831  nemec-g/notes_inbox/1770.   \n",
       "2       23737  beck-s/all_documents/302.   \n",
       "3      428115    shackleton-s/sent/2362.   \n",
       "4      299830    mann-k/_sent_mail/1405.   \n",
       "\n",
       "                                             message  \n",
       "0  Message-ID: <14672070.1075841058817.JavaMail.e...  \n",
       "1  Message-ID: <11746603.1075842820695.JavaMail.e...  \n",
       "2  Message-ID: <24859422.1075849818905.JavaMail.e...  \n",
       "3  Message-ID: <19690010.1075844575649.JavaMail.e...  \n",
       "4  Message-ID: <15639165.1075846062681.JavaMail.e...  "
      ],
      "text/html": "<div>\n<style scoped>\n    .dataframe tbody tr th:only-of-type {\n        vertical-align: middle;\n    }\n\n    .dataframe tbody tr th {\n        vertical-align: top;\n    }\n\n    .dataframe thead th {\n        text-align: right;\n    }\n</style>\n<table border=\"1\" class=\"dataframe\">\n  <thead>\n    <tr style=\"text-align: right;\">\n      <th></th>\n      <th>Unnamed: 0</th>\n      <th>file</th>\n      <th>message</th>\n    </tr>\n  </thead>\n  <tbody>\n    <tr>\n      <th>0</th>\n      <td>284300</td>\n      <td>linder-e/notes_inbox/612.</td>\n      <td>Message-ID: &lt;14672070.1075841058817.JavaMail.e...</td>\n    </tr>\n    <tr>\n      <th>1</th>\n      <td>350831</td>\n      <td>nemec-g/notes_inbox/1770.</td>\n      <td>Message-ID: &lt;11746603.1075842820695.JavaMail.e...</td>\n    </tr>\n    <tr>\n      <th>2</th>\n      <td>23737</td>\n      <td>beck-s/all_documents/302.</td>\n      <td>Message-ID: &lt;24859422.1075849818905.JavaMail.e...</td>\n    </tr>\n    <tr>\n      <th>3</th>\n      <td>428115</td>\n      <td>shackleton-s/sent/2362.</td>\n      <td>Message-ID: &lt;19690010.1075844575649.JavaMail.e...</td>\n    </tr>\n    <tr>\n      <th>4</th>\n      <td>299830</td>\n      <td>mann-k/_sent_mail/1405.</td>\n      <td>Message-ID: &lt;15639165.1075846062681.JavaMail.e...</td>\n    </tr>\n  </tbody>\n</table>\n</div>"
     },
     "metadata": {},
     "execution_count": 3
    }
   ],
   "source": [
    "df.head()"
   ]
  },
  {
   "cell_type": "code",
   "execution_count": 4,
   "metadata": {},
   "outputs": [
    {
     "output_type": "execute_result",
     "data": {
      "text/plain": [
       "'Message-ID: <11746603.1075842820695.JavaMail.evans@thyme>\\r\\nDate: Wed, 28 Mar 2001 08:10:00 -0800 (PST)\\r\\nFrom: office.chairman@enron.com\\r\\nTo: all.worldwide@enron.com\\r\\nSubject: Enron Wind\\r\\nMime-Version: 1.0\\r\\nContent-Type: text/plain; charset=us-ascii\\r\\nContent-Transfer-Encoding: 7bit\\r\\nX-From: Office of the Chairman\\r\\nX-To: All Enron Worldwide\\r\\nX-cc: \\r\\nX-bcc: \\r\\nX-Folder: \\\\Gerald_Nemec_Dec2000_June2001_2\\\\Notes Folders\\\\Notes inbox\\r\\nX-Origin: NEMEC-G\\r\\nX-FileName: gnemec.nsf\\r\\n\\r\\nEffective immediately, Stan Horton, Chairman and Chief Executive Officer of \\r\\nEnron Transportation Services will become Chairman of Enron Wind.  Stan \\r\\nreplaces Jim Noles, who is retiring.  \\r\\n\\r\\nAdam Umanoff, currently Managing Director of Enron Wind-Americas, will become \\r\\nPresident and Chief Executive Officer of Enron Wind. \\r\\n\\r\\nHerbert Peels, currently Vice President of General Manufacturing for Enron \\r\\nWind, will become Vice President and General Manager for Enron Wind-Europe. \\r\\n\\r\\nTod Lindholm, currently Managing Director of Enron Assurance Services and \\r\\nInformation Technology Compliance, will join Enron Wind as Chief Financial \\r\\nOfficer.\\r\\n\\r\\nPlease join us in wishing Jim well and congratulating Stan on his additional \\r\\nrole, as well as, Adam, Herbert and Tod on their new roles.'"
      ]
     },
     "metadata": {},
     "execution_count": 4
    }
   ],
   "source": [
    "df['message'][1]"
   ]
  },
  {
   "cell_type": "code",
   "execution_count": 46,
   "metadata": {},
   "outputs": [],
   "source": [
    "def clearString(text):\n",
    "    return re.sub(r\"\\r|\\n|\\t\", \" \", text)"
   ]
  },
  {
   "cell_type": "code",
   "execution_count": 47,
   "metadata": {},
   "outputs": [],
   "source": [
    "df['message'] = df['message'].apply(clearString)\n"
   ]
  }
 ]
}