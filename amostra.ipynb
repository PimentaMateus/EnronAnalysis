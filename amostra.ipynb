{
 "metadata": {
  "language_info": {
   "codemirror_mode": {
    "name": "ipython",
    "version": 3
   },
   "file_extension": ".py",
   "mimetype": "text/x-python",
   "name": "python",
   "nbconvert_exporter": "python",
   "pygments_lexer": "ipython3",
   "version": "3.8.5-final"
  },
  "orig_nbformat": 2,
  "kernelspec": {
   "name": "Python 3.8.5 32-bit",
   "display_name": "Python 3.8.5 32-bit",
   "metadata": {
    "interpreter": {
     "hash": "e73d3315deaaccb0c6e0e925fa9f28d610a9f17e90a5264854df9f46b4418957"
    }
   }
  }
 },
 "nbformat": 4,
 "nbformat_minor": 2,
 "cells": [
  {
   "source": [
    "## NÃO EXECUTAR AS CELULAS ABAIXO"
   ],
   "cell_type": "markdown",
   "metadata": {}
  },
  {
   "cell_type": "code",
   "execution_count": 1,
   "metadata": {},
   "outputs": [],
   "source": [
    "import pandas as pd\n",
    "import re"
   ]
  },
  {
   "cell_type": "code",
   "execution_count": 2,
   "metadata": {},
   "outputs": [],
   "source": [
    "df = pd.read_csv(\"Datasets/amostra.csv\")"
   ]
  },
  {
   "cell_type": "code",
   "execution_count": 3,
   "metadata": {},
   "outputs": [
    {
     "output_type": "execute_result",
     "data": {
      "text/plain": [
       "   Unnamed: 0                       file  \\\n",
       "0      284300  linder-e/notes_inbox/612.   \n",
       "1      350831  nemec-g/notes_inbox/1770.   \n",
       "2       23737  beck-s/all_documents/302.   \n",
       "3      428115    shackleton-s/sent/2362.   \n",
       "4      299830    mann-k/_sent_mail/1405.   \n",
       "\n",
       "                                             message  \n",
       "0  Message-ID: <14672070.1075841058817.JavaMail.e...  \n",
       "1  Message-ID: <11746603.1075842820695.JavaMail.e...  \n",
       "2  Message-ID: <24859422.1075849818905.JavaMail.e...  \n",
       "3  Message-ID: <19690010.1075844575649.JavaMail.e...  \n",
       "4  Message-ID: <15639165.1075846062681.JavaMail.e...  "
      ],
      "text/html": "<div>\n<style scoped>\n    .dataframe tbody tr th:only-of-type {\n        vertical-align: middle;\n    }\n\n    .dataframe tbody tr th {\n        vertical-align: top;\n    }\n\n    .dataframe thead th {\n        text-align: right;\n    }\n</style>\n<table border=\"1\" class=\"dataframe\">\n  <thead>\n    <tr style=\"text-align: right;\">\n      <th></th>\n      <th>Unnamed: 0</th>\n      <th>file</th>\n      <th>message</th>\n    </tr>\n  </thead>\n  <tbody>\n    <tr>\n      <th>0</th>\n      <td>284300</td>\n      <td>linder-e/notes_inbox/612.</td>\n      <td>Message-ID: &lt;14672070.1075841058817.JavaMail.e...</td>\n    </tr>\n    <tr>\n      <th>1</th>\n      <td>350831</td>\n      <td>nemec-g/notes_inbox/1770.</td>\n      <td>Message-ID: &lt;11746603.1075842820695.JavaMail.e...</td>\n    </tr>\n    <tr>\n      <th>2</th>\n      <td>23737</td>\n      <td>beck-s/all_documents/302.</td>\n      <td>Message-ID: &lt;24859422.1075849818905.JavaMail.e...</td>\n    </tr>\n    <tr>\n      <th>3</th>\n      <td>428115</td>\n      <td>shackleton-s/sent/2362.</td>\n      <td>Message-ID: &lt;19690010.1075844575649.JavaMail.e...</td>\n    </tr>\n    <tr>\n      <th>4</th>\n      <td>299830</td>\n      <td>mann-k/_sent_mail/1405.</td>\n      <td>Message-ID: &lt;15639165.1075846062681.JavaMail.e...</td>\n    </tr>\n  </tbody>\n</table>\n</div>"
     },
     "metadata": {},
     "execution_count": 3
    }
   ],
   "source": [
    "df.head()"
   ]
  },
  {
   "cell_type": "code",
   "execution_count": 4,
   "metadata": {},
   "outputs": [
    {
     "output_type": "execute_result",
     "data": {
      "text/plain": [
       "'Message-ID: <14672070.1075841058817.JavaMail.evans@thyme>\\r\\nDate: Mon, 9 Apr 2001 21:41:00 -0700 (PDT)\\r\\nFrom: pete.davis@enron.com\\r\\nTo: pete.davis@enron.com\\r\\nSubject: Start Date: 4/10/01; HourAhead hour: 5;  <CODESITE>\\r\\nCc: bert.meyers@enron.com, bill.williams.iii@enron.com, craig.dean@enron.com, \\r\\n\\tdporter3@enron.com, eric.linder@enron.com, geir.solberg@enron.com, \\r\\n\\tjbryson@enron.com, leaf.harasin@enron.com, \\r\\n\\tmonika.causholli@enron.com, mark.guzman@enron.com, \\r\\n\\tpete.davis@enron.com, ryan.slinger@enron.com\\r\\nMime-Version: 1.0\\r\\nContent-Type: text/plain; charset=us-ascii\\r\\nContent-Transfer-Encoding: 7bit\\r\\nBcc: bert.meyers@enron.com, bill.williams.iii@enron.com, craig.dean@enron.com, \\r\\n\\tdporter3@enron.com, eric.linder@enron.com, geir.solberg@enron.com, \\r\\n\\tjbryson@enron.com, leaf.harasin@enron.com, \\r\\n\\tmonika.causholli@enron.com, mark.guzman@enron.com, \\r\\n\\tpete.davis@enron.com, ryan.slinger@enron.com\\r\\nX-From: Schedule Crawler<pete.davis@enron.com>\\r\\nX-To: pete.davis@enron.com\\r\\nX-cc: bert.meyers@enron.com, bill.williams.III@enron.com, Craig.Dean@enron.com, dporter3@enron.com, Eric.Linder@enron.com, Geir.Solberg@enron.com, jbryson@enron.com, leaf.harasin@enron.com, monika.causholli@enron.com, mark.guzman@enron.com, pete.davis@enron.com, ryan.slinger@enron.com\\r\\nX-bcc: \\r\\nX-Folder: \\\\eric linder 6-28-02\\\\Notes Folders\\\\Notes inbox\\r\\nX-Origin: LINDER-E\\r\\nX-FileName: eric linder 6-28-02.nsf\\r\\n\\r\\nStart Date: 4/10/01; HourAhead hour: 5;  No ancillary schedules awarded.  No \\r\\nvariances detected.\\r\\n\\r\\n    LOG MESSAGES:\\r\\n\\r\\nPARSING FILE -->> O:\\\\Portland\\\\WestDesk\\\\California Scheduling\\\\ISO Final \\r\\nSchedules\\\\2001041005.txt'"
      ]
     },
     "metadata": {},
     "execution_count": 4
    }
   ],
   "source": [
    "df['message'][0]"
   ]
  },
  {
   "cell_type": "code",
   "execution_count": 5,
   "metadata": {},
   "outputs": [],
   "source": [
    "def clearString(text):\n",
    "    return re.sub(r\"\\r|\\n|\\t\", \" \", text)\n",
    "def clearSpaces(text):\n",
    "    return re.sub(r\"\\s{2,}\", \" \", text)"
   ]
  },
  {
   "cell_type": "code",
   "execution_count": 6,
   "metadata": {},
   "outputs": [],
   "source": [
    "df['message'] = df['message'].apply(clearString)\n",
    "df['message'] = df['message'].apply(clearSpaces)\n"
   ]
  },
  {
   "cell_type": "code",
   "execution_count": 7,
   "metadata": {},
   "outputs": [
    {
     "output_type": "execute_result",
     "data": {
      "text/plain": [
       "'Message-ID: <14672070.1075841058817.JavaMail.evans@thyme> Date: Mon, 9 Apr 2001 21:41:00 -0700 (PDT) From: pete.davis@enron.com To: pete.davis@enron.com Subject: Start Date: 4/10/01; HourAhead hour: 5; <CODESITE> Cc: bert.meyers@enron.com, bill.williams.iii@enron.com, craig.dean@enron.com, dporter3@enron.com, eric.linder@enron.com, geir.solberg@enron.com, jbryson@enron.com, leaf.harasin@enron.com, monika.causholli@enron.com, mark.guzman@enron.com, pete.davis@enron.com, ryan.slinger@enron.com Mime-Version: 1.0 Content-Type: text/plain; charset=us-ascii Content-Transfer-Encoding: 7bit Bcc: bert.meyers@enron.com, bill.williams.iii@enron.com, craig.dean@enron.com, dporter3@enron.com, eric.linder@enron.com, geir.solberg@enron.com, jbryson@enron.com, leaf.harasin@enron.com, monika.causholli@enron.com, mark.guzman@enron.com, pete.davis@enron.com, ryan.slinger@enron.com X-From: Schedule Crawler<pete.davis@enron.com> X-To: pete.davis@enron.com X-cc: bert.meyers@enron.com, bill.williams.III@enron.com, Craig.Dean@enron.com, dporter3@enron.com, Eric.Linder@enron.com, Geir.Solberg@enron.com, jbryson@enron.com, leaf.harasin@enron.com, monika.causholli@enron.com, mark.guzman@enron.com, pete.davis@enron.com, ryan.slinger@enron.com X-bcc: X-Folder: \\\\eric linder 6-28-02\\\\Notes Folders\\\\Notes inbox X-Origin: LINDER-E X-FileName: eric linder 6-28-02.nsf Start Date: 4/10/01; HourAhead hour: 5; No ancillary schedules awarded. No variances detected. LOG MESSAGES: PARSING FILE -->> O:\\\\Portland\\\\WestDesk\\\\California Scheduling\\\\ISO Final Schedules\\\\2001041005.txt'"
      ]
     },
     "metadata": {},
     "execution_count": 7
    }
   ],
   "source": [
    "df['message'][0]"
   ]
  },
  {
   "cell_type": "code",
   "execution_count": 8,
   "metadata": {},
   "outputs": [],
   "source": [
    "def findFrom(text):\n",
    "    match = re.search(r'(?<=From: )[0-9a-zA-Z_.-]+@[0-9a-zA-Z_.-]+', text)\n",
    "    if match:\n",
    "        return match.group(0)\n",
    "    else:\n",
    "        return \"empty-email\"\n",
    "\n",
    "def findTo(text):\n",
    "    match = re.search(r'(?<=To: )[0-9a-zA-Z_.-]+@[0-9a-zA-Z_.-]+', text)\n",
    "    if match:\n",
    "        return match.group(0)\n",
    "    else:\n",
    "        return \"empty-email\""
   ]
  },
  {
   "cell_type": "code",
   "execution_count": 9,
   "metadata": {},
   "outputs": [],
   "source": [
    "df['From'] = df['message'].apply(findFrom)\n",
    "df['To'] = df['message'].apply(findTo)"
   ]
  },
  {
   "cell_type": "code",
   "execution_count": 10,
   "metadata": {},
   "outputs": [],
   "source": [
    "df['aresta'] = list(zip(df.From, df.To))"
   ]
  },
  {
   "cell_type": "code",
   "execution_count": 11,
   "metadata": {},
   "outputs": [],
   "source": [
    "arestas = df['aresta'].tolist()"
   ]
  },
  {
   "cell_type": "code",
   "execution_count": 12,
   "metadata": {},
   "outputs": [],
   "source": [
    "class Grafo():\n",
    "    def __init__(self, arestas):\n",
    "        self.grafoDict = {}\n",
    "        self.construirGrafo(arestas)\n",
    "\n",
    "    def __str__(self):\n",
    "        return f\"Grafo: {self.grafoDict}\"\n",
    "\n",
    "    def construirGrafo(self, arestas):\n",
    "        for vertice in arestas:\n",
    "            if vertice[0] not in self.grafoDict.keys():\n",
    "                self.grafoDict[vertice[0]] = [vertice[1]]\n",
    "                if vertice[0] != vertice[1]:\n",
    "                    self.grafoDict[vertice[1]] = [None]\n",
    "            else:\n",
    "                if self.grafoDict[vertice[0]] is [None]:\n",
    "                    self.grafoDict[vertice[0]].pop()\n",
    "                self.grafoDict[vertice[0]].append(vertice[1])\n",
    "\n",
    "    def buscaLargura(self, node):\n",
    "        fila = []\n",
    "        visitado = []\n",
    "        visitado.append(node)\n",
    "        fila.append(node)\n",
    "        while fila:\n",
    "            s = fila.pop(0)\n",
    "            # print(s)\n",
    "            for vizinho in self.grafoDict[s]:\n",
    "                if vizinho is None:\n",
    "                    continue\n",
    "                if vizinho not in visitado:\n",
    "                    visitado.append(vizinho)\n",
    "                    fila.append(vizinho)\n",
    "        return visitado\n",
    "\n",
    "    def buscaProfundidade(self, vertice):\n",
    "        visitados = set()\n",
    "\n",
    "        def profundidade(self, vertice_fonte):\n",
    "            visitados.add(vertice_fonte)\n",
    "            falta_visitar = [vertice_fonte]\n",
    "            while falta_visitar:\n",
    "                vertice = falta_visitar.pop()\n",
    "                for vizinho in self.grafoDict[vertice]:\n",
    "                    if vizinho is None:\n",
    "                        continue\n",
    "                    if vizinho not in visitados:\n",
    "                        visitados.add(vizinho)\n",
    "                        falta_visitar.append(vizinho)\n",
    "\n",
    "        profundidade(self, vertice)\n",
    "        return visitados"
   ]
  },
  {
   "cell_type": "code",
   "execution_count": 13,
   "metadata": {},
   "outputs": [],
   "source": [
    "grafo = Grafo(arestas)"
   ]
  },
  {
   "cell_type": "code",
   "execution_count": 14,
   "metadata": {
    "tags": []
   },
   "outputs": [
    {
     "output_type": "execute_result",
     "data": {
      "text/plain": [
       "['pete.davis@enron.com', 'portland.shift@enron.com']"
      ]
     },
     "metadata": {},
     "execution_count": 14
    }
   ],
   "source": [
    "grafo.buscaLargura('pete.davis@enron.com')"
   ]
  },
  {
   "cell_type": "code",
   "execution_count": 15,
   "metadata": {},
   "outputs": [
    {
     "output_type": "execute_result",
     "data": {
      "text/plain": [
       "{'pete.davis@enron.com', 'portland.shift@enron.com'}"
      ]
     },
     "metadata": {},
     "execution_count": 15
    }
   ],
   "source": [
    "grafo.buscaProfundidade('pete.davis@enron.com')"
   ]
  },
  {
   "cell_type": "code",
   "execution_count": 17,
   "metadata": {
    "tags": [
     "outputPrepend"
    ]
   },
   "outputs": [
    {
     "output_type": "stream",
     "name": "stdout",
     "text": [
      "tsline.com': [None], 'kathy.mcmahon@enron.com': ['marla.barnard@enron.com'], 'randal.maffett@enron.com': ['stanley.horton@enron.com'], 'promotions@usairways.com': ['scorman@enron.com'], 'sfalbie@msn.com': ['eveningmba@haas.berkeley.edu'], 'kayla.ruiz@enron.com': ['jim.prentice@enron.com'], 'jim.prentice@enron.com': [None], 'melissa.rodriguez@enron.com': ['judy.hernandez@enron.com'], 'no-reply@mail.southwest.com': ['sscott5@enron.com', 'mtaylo1@ect.enron.com'], 'enelson@socalgas.com': ['alexanms@sce.com'], 'e-journal@mail.michbar.org': ['ejournal@lists.michbar.org'], 'pgroetzinger@brentbroker.com': ['tana.jones@enron.com'], 'charryl@pacbell.net': ['mgran325@aol.com'], 'mgran325@aol.com': [None], 'erothman@aceguarantyre.com': ['empty-email'], 'mark.lay@enron.com': ['vince.kaminski@enron.com'], 'becky.caudle@enron.com': ['louise.kitchen@enron.com'], 'felicia.doan@enron.com': ['rudy.acevedo@enron.com'], 'jtatum@genescosports.com': ['fvehon@dillonserv.com'], 'fvehon@dillonserv.com': [None], 'inbox@messaging.accuweather.com': ['shendri@ect.enron.com'], 'shendri@ect.enron.com': [None], 'business@tamu.edu': ['empty-email'], 'matt.allsup@enron.com': ['mark.fisher@enron.com'], 'jon.barrett@enron.com': ['justin.boyd@enron.com'], 'martina.angelova@enron.com': ['charlotte.baldock@enron.com'], 'charlotte.baldock@enron.com': [None], 'guillermo.canovas@enron.com': ['harry.kingerski@enron.com'], 'danhyde@mindspring.com': ['klay@enron.com'], 'adam.siegel@enron.com': ['e.taylor@enron.com'], 'jennifer.velasco@enron.com': ['m..love@enron.com'], 'aherrera@statoilenergy.com': ['tana.jones@enron.com'], 'enron.payroll@enron.com': ['a..martin@enron.com'], 'tracy.foy@enron.com': ['bimonthly@enron.com'], 'bimonthly@enron.com': [None], 'e-mail.center@wsj.com': ['tech_alert@listserv.dowjones.com'], 'tech_alert@listserv.dowjones.com': [None], 'politics@lists.economist.com': ['jdasovic@enron.com'], 'sandi.braband@enron.com': ['j..farmer@enron.com'], 'bbreen@questia.com': ['twilliams@questia.com'], 'twilliams@questia.com': [None], 'paramfjord@stoel.com': ['dvermillion@avistaenergy.com'], 'dvermillion@avistaenergy.com': [None], 'gbehr@intellimark-it.com': ['rms_etc@ercot.com'], 'rms_etc@ercot.com': [None], 'agage@isda.org': ['empty-email'], 'fpickel@tca-us.com': ['smara@enron.com'], 'smara@enron.com': [None], 'rrussell@fontheiminternational.com': ['empty-email'], 'lgoldb@bellsouth.net': ['a..shankman@enron.com'], 'ckalau@hotmail.com': ['monty_mcmahen@enron.net'], 'monty_mcmahen@enron.net': [None], 'mark.allan.smith@us.pwcglobal.com': ['kam.keiser@enron.com'], 'matt.anderson@enron.com': ['shilpa.chunchu@enron.com'], 'shilpa.chunchu@enron.com': [None], 'andrew.wu@enron.com': ['richard.ingersoll@enron.com', 'yapasu@enron.com'], 'kevin.cousineau@enron.com': ['mark.fisher@enron.com'], 'thdcronm@bol.net.in': ['empty-email'], 'janisp@dialdata.com.br': ['susan.w.pereira@enron.com'], 'susan.w.pereira@enron.com': [None], 'hess@enron.com': ['stanley.horton@enron.com'], 'richard.lammers@enron.com': ['jeff.skilling@enron.com'], 'ruth.brown@enron.com': ['empty-email'], 'dharvin@velaw.com': ['dan.lyons@enron.com'], 'kimberly.bates@enron.com': ['andrea.ring@enron.com', 'scott.neal@enron.com'], 'ena.relations@enron.com': ['all_ena_egm_eim@enron.com'], 'all_ena_egm_eim@enron.com': [None], 'john.allison@enron.com': ['chris.abel@enron.com'], 'brenda.whitehead@enron.com': ['elizabeth.sager@enron.com'], 'shapp@caiso.com': ['20participants@caiso.com'], 'awenner@velaw.com': ['csandhe@enron.com'], 'csandhe@enron.com': [None], 'sharebuilder_010853@netstock.customer-email.com': ['sshackl@enron.com'], 'tonyborelli@bandm.com': ['john.j.lavorato@enron.com'], 'scs@rice.edu': ['sara.shackleton@enron.com'], 'magdelena.cruz@enron.com': ['e.taylor@enron.com'], 'vance.bates@enron.com': ['empty-email'], 'mark.elliott@enron.com': ['sara.shackleton@enron.com', 'shari.stack@enron.com'], 'posta_mailer.1-5397219-5373984-akq201gg@tumble2.datek.com': ['lcampbel@enron.com'], 'c..bland@enron.com': ['richard.causey@enron.com'], 'marko.ljuboja@entergykoch.com': ['geoff.storey@enron.com'], 'lorraine.becker@enron.com': ['tana.jones@enron.com', 'tana.jones@enron.com'], 'jkbowles@hotmail.com': ['cwilkes@santafe-snyder.com'], 'cwilkes@santafe-snyder.com': [None], 'marting@mriresearch.com': ['avorato@enron.com'], 'avorato@enron.com': [None], 'marcello.romano@enron.com': ['louise.kitchen@enron.com'], 'thomas.underwood@enron.com': ['m..love@enron.com'], 'jeff.donahue@enron.com': ['kenneth.lay@enron.com'], 'christopher.wheeler@enron.com': ['rogers.herndon@enron.com'], 'robyn@layfam.com': ['lay.natalie@enron.com'], 'lay.natalie@enron.com': [None], 'suzanna.strangmeier@ipgdirect.com': ['don.baughman@enron.com'], 'stephen.piasio@ssmb.com': ['sara.shackleton@enron.com'], 'tony.harris@enron.com': ['gary.taylor@enron.com'], 'josabank@specials.josbank.com': ['rshapiro@enron.com'], 'carrie.southard@enron.com': ['daren.farmer@enron.com'], 'dloon@uschamber.com': ['dfossum@enron.com'], 'rita.bianchi@enron.com': ['elizabeth.brown@enron.com', 'elizabeth.brown@enron.com'], 'd..winfree@enron.com': ['kam.keiser@enron.com'], 'spencer.120@osu.edu': ['klay@enron.com'], 'beckyp@bammel.org': ['bstephen@academicplanet.com'], 'limor.nissan@enron.com': ['shona.wilson@enron.com'], 'cwhite@viviance.com': ['sally.beck@enron.com'], 'donnie.myers@enron.com': ['jane.tholt@enron.com'], 'mcyrus@cinergy.com': ['benjamin.rogers@enron.com'], 'gregory.schockling@enron.com': ['joe.parks@enron.com', 'ragan.bond@enron.com'], '21f37c937842ec742e5ffa3947742e7999@tm02.com': ['pmims@enron.com'], 'edgroup@eei.org': ['anthony.duenner@enron.com', 'anthony.duenner@enron.com'], 'e.sullo@enron.com': ['rick.buy@enron.com'], 'knotestine@littler.com': ['michelle.cash@enron.com'], 've@mcimail.com': ['mary.hain@enron.com'], 'marc.graubart@enron.com': ['a..shankman@enron.com'], 'stephen.schwarz@enron.com': ['sally.beck@enron.com'], 'wonmi@cook-inlet.com': ['michelle.lokay@enron.com'], 'paul_puchot@enron.net': ['mary.cook@enron.com'], 'fran.fagan@enron.com': ['lynn.blair@enron.com'], 'rkean@starband.net': ['rex01@dellnet.com'], 'john.massey@enron.com': ['robert.badeer@enron.com'], 'jbradley@svmg.org': ['jeff.dasovich@enron.com'], 'marianne.wilkins@enron.com': ['tana.jones@enron.com'], 'filterpst@enron.com': ['empty-email'], 'marketopshourahead@caiso.com': ['mktstathourahead@caiso.com'], 'mktstathourahead@caiso.com': [None], 'orbitz@email.orbitz.com': ['rshapiro@enron.com'], 'connieargento@paulhastings.com': ['kay.mann@enron.com'], 'karla.feldman@enron.com': ['vince.kaminski@enron.com'], 'holly.demoss@travelpark.com': ['mark.taylor@enron.com'], 'mpaulina@kantola.com': ['klay@enron.com'], 'jennifer.cronin@enron.com': ['aaron.adams@enron.com'], 'ava.garcia@enron.com': ['jean.blair@enron.com', 'lynn.blair@enron.com'], 'my-prs@irjgroup.co.jp': ['michael.grimes@enron.com'], 'michael.grimes@enron.com': [None], 'c..kenne@enron.com': ['kam.keiser@enron.com'], 'susan_s_edwards@yahoo.com': ['lisa.gillette@enron.com'], 'lisa.gillette@enron.com': [None], 'dave.waymire@enron.com': ['jerry.peters@enron.com'], '98612193@bellsouth.net': ['rospectsnow@bellsouth.net'], 'rospectsnow@bellsouth.net': [None], 'patsy@marc-newson.com': ['john.griffith@enron.com'], 'fap@management.wharton.upenn.edu': ['clayton.degiacinto.wg02@wharton.upenn.edu'], 'clayton.degiacinto.wg02@wharton.upenn.edu': [None], 'dawn.doucet@enron.com': ['jason.biever@enron.com'], 'iona@garygreene.com': ['dfarmer@enron.com'], 'mcle@texasbar.com': ['gerald.nemec@enron.com'], 'david_barr@enron.net': ['chris.germany@enron.com'], 'mcausholli@hotmail.com': ['monika.causholli@enron.com'], 'jay.vandenberg@enron.com': ['e.taylor@enron.com'], 'lfastow@pop.pdq.net': ['mike.mcconnell@enron.com'], 'knipe3@msn.com': ['fenner.chet@enron.com'], 'fenner.chet@enron.com': [None], 'psrichey@terraworld.net': ['sselby007@aol.com'], 'sselby007@aol.com': [None], 'v1ckvvjebrz@bigfoot.com': ['undisclosed.recipients@malaga.cofaran'], 'undisclosed.recipients@malaga.cofaran': [None], 'brendan.devlin@enron.com': ['empty-email'], 'jons@amerexenergy.com': ['sandra.f.brawner@enron.com'], 'customercare@merckmedco.com': ['elizabeth.sager@enron.com'], 'charla.stuart@enron.com': ['steven.kean@enron.com'], 'julie_vu@aimfunds.com': ['chi325@hotmail.com'], 'fhayden@kpmg.com': ['achowdry@transenergy.com'], 'achowdry@transenergy.com': [None], 'sjacob@gpc.ca': ['aleck.dadson@enron.com'], 'nidia.mendoza@enron.com': ['marie.heard@enron.com'], 'perfmgmt@ect.enron.com': ['vkamins@enron.com'], 'meg_daniel@yahoo.com': ['klay@enron.com'], 'specialauctionsonline@news.sothebys.com': ['a..shankman@enron.com'], 'steve.olinde@enron.com': ['clint.dean@enron.com'], 'aftab.saleem@enron.com': ['d..hare@enron.com'], 'd..hare@enron.com': [None], 'alex.wong@enron.com': ['kayne.coulter@enron.com'], 'carson_mmm@news.carsongroup.com': ['carson_mmm@news.carsongroup.com'], 'hbsp.620@hbsp.ed10.net': ['vkamins@enron.com'], 'denise.lagesse@enron.com': ['drew.fossum@enron.com', 'drew.fossum@enron.com'], 'newsletter@fastfreenews.com': ['h..lewis@enron.com'], 'james.studdert@enron.com': ['ben.jacoby@enron.com'], 'jaime_gualy@enron.net': ['skean@enron.com'], 'brenda.bonhame@enron.com': ['adriana.wynn@enron.com'], 'adriana.wynn@enron.com': [None], 'newsletter@paperloop.com': ['monika.causholli@enron.com'], 'arquella.hargrove@enron.com': ['steven.kean@enron.com'], 'mmann@ercot.com': ['isonp@ercot.com'], 'jfields@argentinc.com': ['larry.campbell@enron.com', 'larry.campbell@enron.com'], '1800flowers.217260508@s2u2.com': ['lcampbel@enron.com'], 'mbrown52@csc.com': ['jeff.dasovich@enron.com'], 'rdr@sloverandloftus.com': ['el00-95@listserv.gsa.gov'], 'newexpectations@lists.em5000.com': ['dfarmer@ect.enron.com'], 'mervyn.lowe@enron.com': ['j..kean@enron.com'], 'kim.nguyen@enron.com': ['jeff.duff@enron.com'], 'elizabeth.serralheiro@enron.com': ['sara.shackleton@enron.com'], 'bjorn.hagelmann@enron.com': ['vince.kaminski@enron.com'], 'dlacen@pnm.com': ['isas@wscc.com'], 'ashok.mehta@enron.com': ['empty-email'], 'llbean@explore1.llbean.com': ['brapp@enron.com'], 'kasmith@thosecomputerpeople.com': ['mhaedic@ect.enron.com'], 'lauri.goodwyn@sgfimat.com': ['sara.shackleton@enron.com'], 'williams.ltd@attcanada.net': ['cooper.richey@enron.com'], 'lee.martin@enron.com': ['mary.hain@enron.com'], 'tommy@mossonline.com': ['john.griffith@enron.com'], 'rkosecki@mieco.com': ['vince.j.kaminski@enron.com'], 'thetherington@bracepatt.com': ['charles.ward@enron.com'], 'charles.ward@enron.com': [None, 'd..steffes@enron.com'], 'jeffrey.soo@enron.com': ['jeff.dasovich@enron.com'], 'tom.siekman@compaq.com': ['babbio@verizon.com'], 'babbio@verizon.com': [None], 'andrea.crump@enron.com': ['sally.beck@enron.com'], 'diana.peters@enron.com': ['randall.alton@enron.com'], 'randall.alton@enron.com': [None], 'billglushko@hotmail.com': ['larry.campbell@enron.com'], 'exclusive_offers@sportsline.com': ['mcuilla@enron.com'], 'stevet@amerexenergy.com': ['mark.greenberg@enron.com'], 'wbooth@booth-law.com': ['jeff.dasovich@enron.com'], 'media_grok@reply.thestandard.com': ['alewis@ect.enron.com'], 'delivere@delivere.com': ['alewis@ect.enron.com'], 'a..connor@enron.com': ['r..brackett@enron.com'], 'erisk@email.erisks.com': ['vkamins@enron.com'], 'mbx_iscinfra@enron.com': ['tammy.marcontell@enron.com'], 'dodle@ercot.com': ['set@ercot.com'], 'tracey.irvin@enron.com': ['casey.evans@enron.com'], 'stp@sierratradingpost.com': ['mark.whitt@enron.com'], 'lindon.chiu@enron.com': ['john.griffith@enron.com'], 'evite@enron.com': ['jeff.skilling@enron.com'], 'anne_heard@ryderscott.com': ['marie.heard@enron.com'], 'm000119@canada.com': ['tebp610iii@msn.com'], 'tebp610iii@msn.com': [None], 'tlbrassard@aol.com': ['kholst@enron.com'], 'scott.tholan@enron.com': ['liz.taylor@enron.com'], 'enron.mailsweeper.admin@enron.com': ['dbaughm@notes.enron.com'], 'dbaughm@notes.enron.com': [None], 'raffaele@banksterling.com': ['jonathan.mckay@enron.com'], 'gardner@enron.com': ['rod.hayslett@enron.com'], 'jessica.presas@enron.com': ['stephanie.miller@enron.com'], 'treasa.kirby@enron.com': ['sara.shackleton@enron.com'], 'maria.garcia@enron.com': ['louise.kitchen@enron.com'], 'lmhorne@tampabay.rr.com': ['joe.stepenovitch@enron.com'], 'piro@enron.com': ['stanley.horton@enron.com'], 'michael.bledsoe@ca.com': ['richard.ring@enron.com'], 'thomasandkaren@home.com': ['kevin.ruscitti@enron.com'], 'sgilles@columbiaenergygroup.com': ['scott.neal@enron.com'], 'paul.racicot@enron.com': ['john.lavorato@enron.com'], 'allison.easton@enron.com': ['jaeaston@christushealth.org'], 'jaeaston@christushealth.org': [None], 'teresa.callahan@enron.com': ['kathleen.carnahan@enron.com'], 'ncunningham@mclarty.com': ['skean@enron.com'], 'bradley@morrownet.net': ['morrow.diane@enron.com'], 'morrow.diane@enron.com': [None], 'system.administrator@enron.com': ['mike.swerzbin@enron.com'], 'david.hoog@enron.com': ['jeffrey.shankman@enron.com'], 'mauricio.trejo@enron.com': ['don.baughman@enron.com'], '40ect@enron.com': ['Tammy.Gilmore@enron.com'], 'Tammy.Gilmore@enron.com': [None], 'myates@paradigmgeo.com': ['emca@egroups.com'], 'emca@egroups.com': [None], 'memberservices@emailoffersondemand.com': ['errol.mclaughlin@enron.com'], 'viacheslav.danilov@enron.com': ['karin.ahamer@enron.com'], 'karin.ahamer@enron.com': [None], 'jeff.andrews@enron.com': ['a..shankman@enron.com'], 'jason_radovan@enron.net': ['jdasovic@enron.com'], 'w..mcgowan@enron.com': ['steve.january@enron.com'], 'steve.january@enron.com': [None], 'colleen.koenig@enron.com': ['geroge.sayers@enron.com'], 'geroge.sayers@enron.com': [None], 'nick.hiemstra@enron.com': ['ann.murphy@enron.com'], 'tribute@www.utexas.edu': ['empty-email'], 'postmaster@nymex.com': ['tana.jones@enron.com'], 'carrd2@tdcibg.com': ['tana.jones@enron.com'], 'ecdirect-daily@mail.energycentral.com': ['d..thomas@enron.com'], 'eu2k1qbe3z1t@hotmail.com': ['gvtzgktvqaa@hotmail.com'], 'gvtzgktvqaa@hotmail.com': [None], 'mark.smith@enron.com': ['empty-email'], 'generalinfo@marketing.vignette.com': ['jeff.skilling@enron.com'], 'celestine.hollan@enron.com': ['renee.alfaro@enron.com'], 'renee.alfaro@enron.com': [None], 'max.brown@enron.com': ['dan.pribble@enron.com'], 'dan.pribble@enron.com': [None], 'amy.rios@enron.com': ['mary.cook@enron.com'], 'gwendolyn.petteway@enron.com': ['michelle.hargrave@enron.com'], 'markm@cajunusa.com': ['martier@cpchem.com'], 'martier@cpchem.com': [None], 'brian_schofield@mckinsey.com': ['jeff.skilling@enron.com'], 'stephanie.summers@enron.com': ['vince.kaminski@enron.com'], 'webmaster@u2.com': ['gerald.nemec@enron.com'], 'gina.taylor@enron.com': ['tracy.geaccone@enron.com'], 'kertz@math.gatech.edu': ['kertz@math.gatech.edu'], 'al2@jmbm.com': ['sscott3@enron.com'], 'lisa.costello@enron.com': ['sally.beck@enron.com'], 'alaadin.suliman@enron.com': ['mark.fisher@enron.com'], 'bhillman@earthlink.net': ['bhillman@earthlink.net'], 'kkgaz@daum.net': ['start.the.new.year.with.a.clean.slate@mailman.enron.com'], 'start.the.new.year.with.a.clean.slate@mailman.enron.com': [None], 'stacy.walker@enron.com': ['j..kean@enron.com'], 'a..hueter@enron.com': ['richard.shapiro@enron.com'], 'monica.lande@enron.com': ['kate.symes@enron.com'], 'khoffman@caiso.com': ['adsproject@caiso.com'], 'adsproject@caiso.com': [None], 'r..pena@enron.com': ['suzanne.adams@enron.com'], 'adrial.boals@enron.com': ['brenda.herod@enron.com'], 'paige.cox@enron.com': ['john.griffith@enron.com'], 'beverly.miller@enron.com': ['shelley.corman@enron.com'], 'bobnovotny@juno.com': ['emca@yahoogroups.com'], 'al.herrmann@chron.com': ['empty-email'], 'news@prosrm.com': ['rbuy@enron.com'], 'rbuy@enron.com': [None], 'tim.despain@enron.com': ['paula.rieker@enron.com'], 'handshohl@eudoramail.com': ['smu-betas@yahoogroups.com'], 'ford.cooper@enron.com': ['rick.buy@enron.com'], 'mzeleanor@juno.com': ['empty-email'], 'kirit.purbhoo@enron.com': ['jeff.dasovich@enron.com'], 'caroline@thegrid.net': ['klay@enron.com'], 'maria.cisneros@enron.com': ['teb.lokey@enron.com'], 'paul.lebeau@enron.com': ['kevin.mcgowan@enron.com'], 'dave.samuels@enron.com': [None], 'nick.west@linklaters.com': ['dave.samuels@enron.com'], 'rstephens@bracepatt.com': ['lbekker@wisvest.com'], 'lbekker@wisvest.com': [None], 'aumc@ashfordumc.org': ['keesling@enron.com'], 'keesling@enron.com': [None], 'jbeard@austingrp.com': ['jbeard@austingrp.com'], 'jdixon@calpine.com': ['gerald.nemec@enron.com'], 'levine@haas.berkeley.edu': ['e201b-1@haas.berkeley.edu'], 'antigen@mailman.enron.com': ['pigsrun2@aol.com'], 'pigsrun2@aol.com': [None], 'miguel.maltes@enron.com': ['javier.chavarria@enron.com'], 'javier.chavarria@enron.com': [None], 'b2bsurveys@opt11.edirectnetwork.net': ['jason.wolfe@enron.com'], 'vincent.tang@enron.com': ['grant.masson@enron.com'], 'pubs@eenews.net': ['daily@eenews.net'], 'daily@eenews.net': [None], 'becky.zikes@enron.com': ['alan.aronowitz@enron.com'], 'marss@perkinscoie.com': ['abuckley@wutc.wa.gov'], 'lisa.bills@enron.com': ['empty-email'], 'owner-pastoria@energy.ca.gov': ['pastoria@energy.ca.gov'], 'pastoria@energy.ca.gov': [None], 'susan.ralph@enron.com': ['michael.burke@enron.com'], 'eric.le@enron.com': ['barry.tycholiz@enron.com'], 'dale.surbey@enron.com': ['vince.kaminski@enron.com'], 'marde.driscoll@enron.com': ['chris.germany@enron.com'], 'confirm_4_73bc61e2b4f341d7f6a970ff0b5387754eda42aaa6d506b5cfc4f3b2b4fde63e_holdenoo1@newman.oscar.aol.com': ['holden.salisbury@enron.com'], 'misha.weidman@enron.com': ['jeff.skilling@enron.com'], 'khughes@brennanshouston.com': ['dalexander@weingarten.com'], 'dalexander@weingarten.com': [None], 'invision@invisioncs.com': ['shorton@enron.com'], 'shorton@enron.com': [None], 'dcturner@tecoenergy.com': ['kay.mann@enron.com'], 'tiffany.miller@enron.com': ['phillip.allen@enron.com'], 'joe.chandrapala@enron.com': ['enron.changes@enron.com'], 'enron.changes@enron.com': [None], 'jason.huang@enron.com': ['k..allen@enron.com'], 'brook@pdq.net': ['tkuyken@enron.com'], 'tkuyken@enron.com': [None], 'mcn@prnewswire.com': ['mcn@prnmail3.prnewswire.com'], 'mcn@prnmail3.prnewswire.com': [None], 'greg.brazaitis@enron.com': ['gerald.nemec@enron.com'], 'rusty_hawkins@hotmail.com': ['bmckay@ect.enron.com'], 'bmckay@ect.enron.com': [None], 'kalen.pieper@enron.com': ['steven.kean@enron.com'], 'jloleary@bpa.gov': ['lisa.gang@enron.com'], 'judy.pearson@enron.com': ['rates.group@enron.com'], 'rates.group@enron.com': [None], 'jgoyer@usasean.org': ['undisclosed-recipients@enron.com'], 'barbara.dillard@enron.com': ['jeffrey.hodge@enron.com'], 'laura.wilkinson@enron.com': ['rod.hayslett@enron.com'], 'szep820pi@flashmail.com': ['undisclosed.recipients@mailman.enron.com'], 'james.barker@enron.com': ['dutch.quigley@enron.com'], 'nlorentzatos@br-inc.com': ['richard.b.sanders@enron.com'], 'barkerde@nmenergy.com': ['market_relations@nyiso.com'], 'joseph.wagner@enron.com': ['robert.gresch@enron.com'], 'robert.gresch@enron.com': [None], 'darren.maloney@enron.com': ['susan.scott@enron.com'], 'homer.lin@enron.com': ['mark.taylor@enron.com'], 'afilas@keyspanenergy.com': ['lcampbel@enron.com'], 'dheineke@corustuscaloosa.com': ['dhones1969@yahoo.com'], 'dhones1969@yahoo.com': [None], 'nancy.callans@enron.com': ['controllers.dl-ets@enron.com'], 'julie.pechersky@enron.com': ['john.griffith@enron.com'], 'bob_beauchamp@bmc.com': ['jeff.skilling@enron.com'], 'libertytax@smartreminders.com': ['mike.grigsby@enron.com'], 'elizabeth.soto@enron.com': ['susan.scott@enron.com'], 'twinmmt@aol.com': ['smu-betas@egroups.com'], 'customerservice@autokrafters.com': ['khyatt@enron.com'], 'wangfa@rice.edu': ['jfleming@ruf.rice.edu', 'jfleming@ruf.rice.edu'], 'jfleming@ruf.rice.edu': [None], 'saraazose@hotmail.com': ['bill.williams.iii@enron.com'], 'bill.williams.iii@enron.com': [None], 'fran@zembu.com': ['jeff.skilling@enron.com'], 'e24329@naseej.com': ['slfqnbwpia@126.com'], 'slfqnbwpia@126.com': [None], 'online1@wellsfargo.m0.net': ['w..white@enron.com'], 'donald.robinson@enron.com': ['shift.portland@enron.com'], 'shift.portland@enron.com': [None]}\n"
     ]
    }
   ],
   "source": [
    "print(grafo)"
   ]
  },
  {
   "cell_type": "code",
   "execution_count": null,
   "metadata": {},
   "outputs": [],
   "source": []
  }
 ]
}